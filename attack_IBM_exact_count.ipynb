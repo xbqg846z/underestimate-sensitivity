{
  "nbformat": 4,
  "nbformat_minor": 0,
  "metadata": {
    "colab": {
      "name": "IBM_attack_exact_count.ipynb",
      "provenance": [],
      "collapsed_sections": []
    },
    "kernelspec": {
      "name": "python3",
      "display_name": "Python 3"
    },
    "language_info": {
      "name": "python"
    }
  },
  "cells": [
    {
      "cell_type": "markdown",
      "source": [
        "## Import libraries"
      ],
      "metadata": {
        "id": "E2o9zd2NA5sZ"
      }
    },
    {
      "cell_type": "code",
      "source": [
        "# Note: v0.5.0 was the latest version available as of 31 December 2021\n",
        "! pip install diffprivlib==0.5.0"
      ],
      "metadata": {
        "colab": {
          "base_uri": "https://localhost:8080/"
        },
        "id": "Kvh1ExgEWHgu",
        "outputId": "d3323c67-7f10-4af3-8cf8-10f7bd49c1b6"
      },
      "execution_count": 1,
      "outputs": [
        {
          "output_type": "stream",
          "name": "stdout",
          "text": [
            "Collecting diffprivlib==0.5.0\n",
            "  Downloading diffprivlib-0.5.0.tar.gz (87 kB)\n",
            "\u001b[?25l\r\u001b[K     |███▊                            | 10 kB 21.5 MB/s eta 0:00:01\r\u001b[K     |███████▌                        | 20 kB 12.7 MB/s eta 0:00:01\r\u001b[K     |███████████▎                    | 30 kB 7.6 MB/s eta 0:00:01\r\u001b[K     |███████████████                 | 40 kB 6.6 MB/s eta 0:00:01\r\u001b[K     |██████████████████▊             | 51 kB 4.2 MB/s eta 0:00:01\r\u001b[K     |██████████████████████▌         | 61 kB 4.9 MB/s eta 0:00:01\r\u001b[K     |██████████████████████████▎     | 71 kB 5.3 MB/s eta 0:00:01\r\u001b[K     |██████████████████████████████  | 81 kB 5.6 MB/s eta 0:00:01\r\u001b[K     |████████████████████████████████| 87 kB 2.6 MB/s \n",
            "\u001b[?25hRequirement already satisfied: numpy>=1.19.0 in /usr/local/lib/python3.7/dist-packages (from diffprivlib==0.5.0) (1.21.6)\n",
            "Requirement already satisfied: setuptools>=49.0.0 in /usr/local/lib/python3.7/dist-packages (from diffprivlib==0.5.0) (57.4.0)\n",
            "Requirement already satisfied: scikit-learn>=0.23.0 in /usr/local/lib/python3.7/dist-packages (from diffprivlib==0.5.0) (1.0.2)\n",
            "Collecting scipy>=1.5.0\n",
            "  Downloading scipy-1.7.3-cp37-cp37m-manylinux_2_12_x86_64.manylinux2010_x86_64.whl (38.1 MB)\n",
            "\u001b[K     |████████████████████████████████| 38.1 MB 1.4 MB/s \n",
            "\u001b[?25hRequirement already satisfied: joblib>=0.16.0 in /usr/local/lib/python3.7/dist-packages (from diffprivlib==0.5.0) (1.1.0)\n",
            "Requirement already satisfied: threadpoolctl>=2.0.0 in /usr/local/lib/python3.7/dist-packages (from scikit-learn>=0.23.0->diffprivlib==0.5.0) (3.1.0)\n",
            "Building wheels for collected packages: diffprivlib\n",
            "  Building wheel for diffprivlib (setup.py) ... \u001b[?25l\u001b[?25hdone\n",
            "  Created wheel for diffprivlib: filename=diffprivlib-0.5.0-py3-none-any.whl size=162302 sha256=f84c01e450e577321e9e2fd0449afb779443b8b0235a23295efd22bd96d673e4\n",
            "  Stored in directory: /root/.cache/pip/wheels/e3/06/66/53eecc576e61a914f03ad5caee627823eb857225cb84aeb6d2\n",
            "Successfully built diffprivlib\n",
            "Installing collected packages: scipy, diffprivlib\n",
            "  Attempting uninstall: scipy\n",
            "    Found existing installation: scipy 1.4.1\n",
            "    Uninstalling scipy-1.4.1:\n",
            "      Successfully uninstalled scipy-1.4.1\n",
            "\u001b[31mERROR: pip's dependency resolver does not currently take into account all the packages that are installed. This behaviour is the source of the following dependency conflicts.\n",
            "albumentations 0.1.12 requires imgaug<0.2.7,>=0.2.5, but you have imgaug 0.2.9 which is incompatible.\u001b[0m\n",
            "Successfully installed diffprivlib-0.5.0 scipy-1.7.3\n"
          ]
        }
      ]
    },
    {
      "cell_type": "code",
      "execution_count": 2,
      "metadata": {
        "id": "vPS2tS8iVnh_"
      },
      "outputs": [],
      "source": [
        "from diffprivlib.tools.utils import sum\n",
        "import matplotlib.pyplot as plt\n",
        "import numpy as np"
      ]
    },
    {
      "cell_type": "markdown",
      "source": [
        "## Create datasets, and get the sums of these datasets"
      ],
      "metadata": {
        "id": "3dxTB8RrA8qi"
      }
    },
    {
      "cell_type": "code",
      "source": [
        "start_dataset = 0 * np.ones(4)\n",
        "x_new = np.append(start_dataset,1)\n",
        "y_new = np.append(start_dataset,0)"
      ],
      "metadata": {
        "id": "DesJH351YQiU"
      },
      "execution_count": 3,
      "outputs": []
    },
    {
      "cell_type": "code",
      "source": [
        "print(x_new)\n",
        "print(y_new)"
      ],
      "metadata": {
        "colab": {
          "base_uri": "https://localhost:8080/"
        },
        "id": "Br49nG9jbtwH",
        "outputId": "285aa43d-2eed-410e-f829-283a936cabbb"
      },
      "execution_count": 4,
      "outputs": [
        {
          "output_type": "stream",
          "name": "stdout",
          "text": [
            "[0. 0. 0. 0. 1.]\n",
            "[0. 0. 0. 0. 0.]\n"
          ]
        }
      ]
    },
    {
      "cell_type": "code",
      "source": [
        "sum_thing = np.sum(x_new)\n",
        "print(sum_thing)\n",
        "\n",
        "sum_thing_2 = np.sum(y_new)\n",
        "print(sum_thing_2)\n",
        "\n",
        "print(sum_thing-sum_thing_2)\n"
      ],
      "metadata": {
        "colab": {
          "base_uri": "https://localhost:8080/"
        },
        "id": "pTvCN5n1YzNU",
        "outputId": "cacc1b3c-4537-464a-ba43-4ff31d6a0dba"
      },
      "execution_count": 5,
      "outputs": [
        {
          "output_type": "stream",
          "name": "stdout",
          "text": [
            "1.0\n",
            "0.0\n",
            "1.0\n"
          ]
        }
      ]
    },
    {
      "cell_type": "markdown",
      "source": [
        "## Run bounded sum 10,000 times to see how readily we can tell the difference between these datasets\n",
        "\n",
        "For a 17-row dataset, we can tell which dataset is which w.p. $\\approx \\frac{9999}{10,000}$. Crazy!!!"
      ],
      "metadata": {
        "id": "db1ZGygsBAqm"
      }
    },
    {
      "cell_type": "code",
      "source": [
        "num_vals_power = 6 # means our start array is length 2**num_vals_power = 4. Works for vals \\in [2,6]\n",
        "\n",
        "start_dataset = 0 * np.ones(2**num_vals_power)\n",
        "x_new = np.append(start_dataset,1)\n",
        "y_new = np.append(start_dataset,0)\n",
        "\n",
        "lower = (1+((2**(-53+num_vals_power)-2**(-52))))*0.5\n",
        "upper = (1+(2**(-53+num_vals_power)))*0.5\n",
        "eps_val = 1000\n",
        "\n",
        "arr_1_ans = []\n",
        "for _ in range(1000):\n",
        "  arr_1_ans.append(sum(x_new, epsilon=eps_val, bounds = (lower, upper) ))\n",
        "\n",
        "arr_2_ans = []\n",
        "for _ in range(1000):\n",
        "  arr_2_ans.append(sum(y_new, epsilon=eps_val, bounds = (lower, upper) ))"
      ],
      "metadata": {
        "id": "X-Ka6_uoY-f1"
      },
      "execution_count": 6,
      "outputs": []
    },
    {
      "cell_type": "code",
      "source": [
        "# print the frequency of each answer\n",
        "\n",
        "the_ans = np.unique(arr_1_ans, return_counts = True)\n",
        "print(the_ans[0][0])\n",
        "\n",
        "the_ans = np.unique(arr_2_ans, return_counts = True)\n",
        "print(the_ans[0][0])"
      ],
      "metadata": {
        "colab": {
          "base_uri": "https://localhost:8080/"
        },
        "id": "yb3QPQINZPTf",
        "outputId": "6f5a5ac1-e8fd-4509-889a-6386ce8bca18"
      },
      "execution_count": 7,
      "outputs": [
        {
          "output_type": "stream",
          "name": "stdout",
          "text": [
            "32.50000000000023\n",
            "32.50000000000022\n"
          ]
        }
      ]
    },
    {
      "cell_type": "code",
      "source": [
        "sum(y_new, epsilon=0.00000001, bounds = (1, 1) )"
      ],
      "metadata": {
        "colab": {
          "base_uri": "https://localhost:8080/"
        },
        "id": "8Ntr5TIMrgU2",
        "outputId": "188cbe05-8266-459b-9709-42c059e3064f"
      },
      "execution_count": 8,
      "outputs": [
        {
          "output_type": "execute_result",
          "data": {
            "text/plain": [
              "65.0"
            ]
          },
          "metadata": {},
          "execution_count": 8
        }
      ]
    },
    {
      "cell_type": "code",
      "source": [
        "y_new"
      ],
      "metadata": {
        "colab": {
          "base_uri": "https://localhost:8080/"
        },
        "id": "8ZfvPrrsrmtz",
        "outputId": "7a11e9de-9a53-4482-f85d-e839525a87d9"
      },
      "execution_count": 9,
      "outputs": [
        {
          "output_type": "execute_result",
          "data": {
            "text/plain": [
              "array([0., 0., 0., 0., 0., 0., 0., 0., 0., 0., 0., 0., 0., 0., 0., 0., 0.,\n",
              "       0., 0., 0., 0., 0., 0., 0., 0., 0., 0., 0., 0., 0., 0., 0., 0., 0.,\n",
              "       0., 0., 0., 0., 0., 0., 0., 0., 0., 0., 0., 0., 0., 0., 0., 0., 0.,\n",
              "       0., 0., 0., 0., 0., 0., 0., 0., 0., 0., 0., 0., 0., 0.])"
            ]
          },
          "metadata": {},
          "execution_count": 9
        }
      ]
    },
    {
      "cell_type": "code",
      "source": [
        "arr_1_ans[0]-arr_2_ans[1]"
      ],
      "metadata": {
        "colab": {
          "base_uri": "https://localhost:8080/"
        },
        "id": "TgBlWCizAH9o",
        "outputId": "c55b145e-dae5-46ce-dcea-3ea18abdd0cf"
      },
      "execution_count": 10,
      "outputs": [
        {
          "output_type": "execute_result",
          "data": {
            "text/plain": [
              "7.105427357601002e-15"
            ]
          },
          "metadata": {},
          "execution_count": 10
        }
      ]
    },
    {
      "cell_type": "code",
      "source": [
        "2**-48"
      ],
      "metadata": {
        "colab": {
          "base_uri": "https://localhost:8080/"
        },
        "id": "Bi3VopH5dMxo",
        "outputId": "5636f5ff-9a60-4893-9bbe-b72e51d475a9"
      },
      "execution_count": 11,
      "outputs": [
        {
          "output_type": "execute_result",
          "data": {
            "text/plain": [
              "3.552713678800501e-15"
            ]
          },
          "metadata": {},
          "execution_count": 11
        }
      ]
    },
    {
      "cell_type": "code",
      "source": [
        ""
      ],
      "metadata": {
        "id": "UCgvdewqdf7n"
      },
      "execution_count": 11,
      "outputs": []
    }
  ]
}
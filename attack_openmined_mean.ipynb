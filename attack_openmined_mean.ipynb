{
  "cells": [
    {
      "cell_type": "markdown",
      "metadata": {
        "id": "Fpza-gif3KVM"
      },
      "source": [
        "## Import libraries"
      ]
    },
    {
      "cell_type": "code",
      "execution_count": 1,
      "metadata": {
        "colab": {
          "base_uri": "https://localhost:8080/"
        },
        "id": "07yBL8eVVIxT",
        "outputId": "a74c915c-0f04-4d46-83d8-eba9cc7edfd8"
      },
      "outputs": [
        {
          "name": "stdout",
          "output_type": "stream",
          "text": [
            "Requirement already satisfied: python-dp==1.1.1 in /Users/michael/.virtualenvs/psi/lib/python3.8/site-packages (1.1.1)\n",
            "\u001b[33mWARNING: You are using pip version 21.2.4; however, version 22.0.4 is available.\n",
            "You should consider upgrading via the '/Users/michael/.virtualenvs/psi/bin/python -m pip install --upgrade pip' command.\u001b[0m\n"
          ]
        }
      ],
      "source": [
        "# Note: v1.1.1 was the latest version available as of 31 December 2021\n",
        "! pip install python-dp==1.1.1"
      ]
    },
    {
      "cell_type": "code",
      "execution_count": 4,
      "metadata": {
        "id": "dMssEqIYVOvD"
      },
      "outputs": [],
      "source": [
        "from pydp.algorithms.laplacian import BoundedMean\n",
        "import numpy as np"
      ]
    },
    {
      "cell_type": "markdown",
      "metadata": {
        "id": "pQ99N6XBBFp0"
      },
      "source": [
        "## Start here\n",
        "\n",
        "The general idea is that we have two datasets of binary values. We know that the first $2^{\\texttt{num_vals_power}}$ terms are 0. We can tell if the \"$2^{\\texttt{num_vals_power}}+1$\" term is 1.\n",
        "\n",
        "We do this by clamping values to the range $\\left[\\frac{1+(2^{-53+\\texttt{num_vals_power}}-2^{-52})}{2}, \\frac{1+(2^{-53+\\texttt{num_vals_power}})}{2} \\right]$.\n",
        "\n",
        "Then we take the mean. All 0 values are clamped to the lower end of the range; all 1 values are clamped to the upper end of the range. This means that a 1 value experiences \"maximal round-up\". For a value in the interval $[2^k,2^{k+1})$, then, we get a difference in sums of $\\frac{2^k}{2^{52}}$. Here, the sensitivity of $|U-L|/2$ in [Google's library](https://github.com/google/differential-privacy/blob/4c867aae8ea6a6831d2ac0ab749cd5ae24e047b4/cc/algorithms/bounded-mean.h#L100-L101) evaluates to $2^{-53}$, so as the $k$ term in the final answer in the sum grows, we get a sensitivity that is $\\frac{2^k}{2^{52}}*2^{-53} = 2^{k-1}$ higher than Google thinks.\n",
        "\n",
        "(Note: there could be some off-by-1 sorts of errors in the evaluation above, but that's roughly what's going on, as illustrated by the success of the attack.)"
      ]
    },
    {
      "cell_type": "code",
      "execution_count": 3,
      "metadata": {
        "id": "bJ-kfMyqUpN3"
      },
      "outputs": [],
      "source": [
        "import numpy as np\n",
        "num_vals_power = 4 # means our start array is length 2**num_vals_power. Works for vals >= 2\n",
        "\n",
        "start_dataset = np.zeros(2**num_vals_power)\n",
        "x_new = np.append(start_dataset, 1)\n",
        "y_new = np.append(start_dataset, 0)\n",
        "\n",
        "lower = (1 + ((2**(-53 + num_vals_power) - 2**(-52))))*0.5\n",
        "upper = (1 + (2**(-53 + num_vals_power))) * 0.5\n",
        "# lower = (1 + ((2**(-24 + num_vals_power) - 2**(-24))))*0.5\n",
        "# upper = (1 + (2**(-24 + num_vals_power))) * 0.5\n",
        "epsilon = 1.0\n",
        "delta = 0.0\n",
        "\n",
        "from pydp.algorithms.laplacian import BoundedMean\n",
        "weak_mean = BoundedMean(epsilon, delta, lower, upper, dtype=\"float\")"
      ]
    },
    {
      "cell_type": "code",
      "execution_count": 4,
      "metadata": {
        "id": "c5gLafccUpN4"
      },
      "outputs": [],
      "source": [
        "arr_1_ans = []\n",
        "arr_2_ans = []\n",
        "for _ in range(10_000):\n",
        "    arr_1_ans.append(weak_mean.quick_result(x_new))\n",
        "    arr_2_ans.append(weak_mean.quick_result(y_new))"
      ]
    },
    {
      "cell_type": "markdown",
      "metadata": {
        "id": "49rKCGbn2Zil"
      },
      "source": [
        "# Analyze frequency of results\n"
      ]
    },
    {
      "cell_type": "code",
      "execution_count": 5,
      "metadata": {
        "colab": {
          "base_uri": "https://localhost:8080/"
        },
        "id": "o9F0sD6FUpN5",
        "outputId": "ea56626b-4061-43fd-8301-9134705f3ee1"
      },
      "outputs": [
        {
          "name": "stdout",
          "output_type": "stream",
          "text": [
            "(array([0.5000000000000008, 0.5000000000000009]), array([9975,   25]))\n",
            "(array([0.5000000000000008, 0.5000000000000009]), array([   9, 9991]))\n"
          ]
        }
      ],
      "source": [
        "# print the frequency of each answer\n",
        "np.set_printoptions(precision=100)\n",
        "the_ans = np.unique(arr_2_ans, return_counts = True)\n",
        "print(the_ans)\n",
        "\n",
        "the_ans = np.unique(arr_1_ans, return_counts = True)\n",
        "print(the_ans)"
      ]
    },
    {
      "cell_type": "code",
      "execution_count": 15,
      "metadata": {},
      "outputs": [],
      "source": [
        "sized_4_u_filename = \"sized_4_u.csv\"\n",
        "sized_4_v_filename = \"sized_4_v.csv\""
      ]
    },
    {
      "cell_type": "code",
      "execution_count": 13,
      "metadata": {},
      "outputs": [],
      "source": [
        "# set up pyspark\n",
        "import os\n",
        "os.environ['JAVA_HOME'] = \"/Library/Java/JavaVirtualMachines/adoptopenjdk-8.jdk/Contents/Home\"\n",
        "\n",
        "import pyspark\n",
        "sc = pyspark.SparkContext()"
      ]
    },
    {
      "cell_type": "code",
      "execution_count": 82,
      "metadata": {},
      "outputs": [
        {
          "name": "stdout",
          "output_type": "stream",
          "text": [
            "512.5312499843762\n",
            "512.5312500056654\n"
          ]
        }
      ],
      "source": [
        "from pipeline_dp.private_spark import make_private\n",
        "from pipeline_dp.aggregate_params import NoiseKind\n",
        "from pipeline_dp import SumParams\n",
        "import pipeline_dp\n",
        "\n",
        "# when we compute a private sum, use laplace noise without partitioning\n",
        "sum_params = SumParams(\n",
        "    noise_kind=NoiseKind.LAPLACE,\n",
        "    max_partitions_contributed=1,\n",
        "    max_contributions_per_partition=1,\n",
        "    min_value=lower,\n",
        "    max_value=upper,\n",
        "    public_partitions=[0],\n",
        "    partition_extractor=lambda _: 0,\n",
        "    value_extractor=lambda v: v[1])\n",
        "\n",
        "def parse_line(l):\n",
        "    print(l)\n",
        "    i, v = l.split(',')\n",
        "    return int(i), float(v)\n",
        "\n",
        "def make_pipelinedp_release(filepath):\n",
        "    sized_uid_u = sc.textFile(filepath).map(parse_line)\n",
        "\n",
        "    accountant = pipeline_dp.NaiveBudgetAccountant(total_epsilon=epsilon * 2, total_delta=delta * 2)\n",
        "    private_sized_uid_u = make_private(sized_uid_u, accountant, lambda v: v[0])\n",
        "\n",
        "    # Calculate the private sum\n",
        "    dp_result = private_sized_uid_u.mean(sum_params)\n",
        "    accountant.compute_budgets()\n",
        "\n",
        "    return dp_result.collect()[0][1] * len(x_new)\n",
        "\n",
        "print(make_pipelinedp_release(sized_4_u_filename))\n",
        "print(make_pipelinedp_release(sized_4_v_filename))"
      ]
    },
    {
      "cell_type": "code",
      "execution_count": 84,
      "metadata": {},
      "outputs": [
        {
          "name": "stdout",
          "output_type": "stream",
          "text": [
            "(array([512.5312499014121, 512.5312499090968, 512.5312499108799,\n",
            "       512.531249915484 , 512.5312499232267, 512.5312499263088,\n",
            "       512.5312499266042, 512.5312499341076, 512.5312499346052,\n",
            "       512.5312499360751, 512.5312499410448, 512.531249941294 ,\n",
            "       512.5312499422155, 512.5312499442412, 512.5312499442836,\n",
            "       512.5312499444065, 512.531249945363 , 512.5312499463283,\n",
            "       512.5312499487491, 512.5312499492301, 512.5312499501425,\n",
            "       512.5312499514584, 512.5312499520675, 512.5312499524488,\n",
            "       512.5312499531104, 512.5312499543493, 512.5312499548038,\n",
            "       512.5312499556577, 512.5312499580656, 512.5312499584195,\n",
            "       512.5312499584792, 512.5312499588632, 512.5312499595888,\n",
            "       512.5312499600867, 512.5312499612356, 512.5312499615777,\n",
            "       512.5312499620301, 512.531249962223 , 512.531249962364 ,\n",
            "       512.5312499628266, 512.5312499638028, 512.5312499639745,\n",
            "       512.5312499648865, 512.5312499655998, 512.5312499659243,\n",
            "       512.5312499668463, 512.5312499669949, 512.531249968001 ,\n",
            "       512.5312499702894, 512.5312499703605, 512.5312499717348,\n",
            "       512.5312499718867, 512.5312499723437, 512.531249972761 ,\n",
            "       512.5312499728649, 512.5312499733076, 512.5312499739995,\n",
            "       512.5312499746939, 512.5312499747488, 512.5312499750344,\n",
            "       512.5312499751325, 512.5312499759848, 512.5312499768689,\n",
            "       512.5312499769637, 512.5312499773565, 512.5312499779848,\n",
            "       512.531249978314 , 512.5312499785686, 512.5312499786195,\n",
            "       512.53124997869  , 512.5312499794155, 512.5312499818023,\n",
            "       512.531249982907 , 512.5312499829512, 512.5312499867466,\n",
            "       512.5312499879878, 512.531249989986 , 512.531249991241 ,\n",
            "       512.53124999179  , 512.5312499918008, 512.5312499925494,\n",
            "       512.5312499950929, 512.5312499952468, 512.5312499988981,\n",
            "       512.5312499992028, 512.531250001938 , 512.5312500026338,\n",
            "       512.53125000291  , 512.5312500038003, 512.5312500053323,\n",
            "       512.531250005673 , 512.5312500099262, 512.5312500100675,\n",
            "       512.5312500119784, 512.5312500120116, 512.5312500136646,\n",
            "       512.5312500141996, 512.5312500189009, 512.5312500211372,\n",
            "       512.5312500522062]), array([1, 1, 1, 1, 1, 1, 1, 1, 1, 1, 1, 1, 1, 1, 1, 1, 1, 1, 1, 1, 1, 1,\n",
            "       1, 1, 1, 1, 1, 1, 1, 1, 1, 1, 1, 1, 1, 1, 1, 1, 1, 1, 1, 1, 1, 1,\n",
            "       1, 1, 1, 1, 1, 1, 1, 1, 1, 1, 1, 1, 1, 1, 1, 1, 1, 1, 1, 1, 1, 1,\n",
            "       1, 1, 1, 1, 1, 1, 1, 1, 1, 1, 1, 1, 1, 1, 1, 1, 1, 1, 1, 1, 1, 1,\n",
            "       1, 1, 1, 1, 1, 1, 1, 1, 1, 1, 1, 1]))\n"
          ]
        }
      ],
      "source": [
        "arr_1_ans = []\n",
        "arr_2_ans = []\n",
        "for i in range(100):\n",
        "    print(i)\n",
        "    arr_1_ans.append(make_pipelinedp_release(sized_4_u_filename))\n",
        "    arr_2_ans.append(make_pipelinedp_release(sized_4_v_filename))\n",
        "    \n",
        "# print the frequency of each answer\n",
        "np.set_printoptions(precision=100)\n",
        "the_ans = np.unique(arr_2_ans, return_counts = True)\n",
        "print(the_ans)\n"
      ]
    },
    {
      "cell_type": "markdown",
      "metadata": {},
      "source": [
        "Not exploitable due to noise in the denominator."
      ]
    },
    {
      "cell_type": "code",
      "execution_count": 85,
      "metadata": {},
      "outputs": [
        {
          "name": "stdout",
          "output_type": "stream",
          "text": [
            "(array([512.5312499144432, 512.5312499380292, 512.5312499407755,\n",
            "       512.5312499428245, 512.5312499436596, 512.5312499505369,\n",
            "       512.5312499531336, 512.5312499637204, 512.5312499686679,\n",
            "       512.5312499698485, 512.5312499710757, 512.531249974664 ,\n",
            "       512.5312499756935, 512.5312499761383, 512.5312499765826,\n",
            "       512.5312499765906, 512.5312499768128, 512.5312499780802,\n",
            "       512.5312499783043, 512.531249978473 , 512.5312499786355,\n",
            "       512.5312499788125, 512.5312499810923, 512.5312499847267,\n",
            "       512.5312499847796, 512.5312499865954, 512.5312499869699,\n",
            "       512.5312499869938, 512.5312499885673, 512.5312499896655,\n",
            "       512.5312499904412, 512.5312499912696, 512.5312499917815,\n",
            "       512.5312499924584, 512.5312499924852, 512.5312499930174,\n",
            "       512.5312499941375, 512.5312499950498, 512.5312499954842,\n",
            "       512.5312499957481, 512.5312499958496, 512.5312499968486,\n",
            "       512.5312499972173, 512.5312499978016, 512.5312499982572,\n",
            "       512.5312499983339, 512.5312499989423, 512.5312499993831,\n",
            "       512.5312499999935, 512.531250000247 , 512.5312500002638,\n",
            "       512.5312500007722, 512.5312500015914, 512.5312500016851,\n",
            "       512.5312500019635, 512.531250002256 , 512.5312500025572,\n",
            "       512.5312500030651, 512.5312500043916, 512.5312500046956,\n",
            "       512.5312500047263, 512.5312500050746, 512.5312500059803,\n",
            "       512.5312500068399, 512.5312500068418, 512.5312500071378,\n",
            "       512.5312500079859, 512.5312500082297, 512.5312500082762,\n",
            "       512.5312500093441, 512.5312500101743, 512.5312500103337,\n",
            "       512.531250012884 , 512.5312500130175, 512.5312500138016,\n",
            "       512.5312500153275, 512.5312500154561, 512.5312500157611,\n",
            "       512.5312500160796, 512.5312500161575, 512.5312500161665,\n",
            "       512.5312500163408, 512.5312500217962, 512.531250022182 ,\n",
            "       512.5312500251459, 512.5312500257836, 512.5312500297812,\n",
            "       512.531250032619 , 512.5312500347173, 512.5312500354459,\n",
            "       512.5312500370062, 512.5312500375076, 512.5312500391123,\n",
            "       512.531250039459 , 512.5312500411206, 512.531250043117 ,\n",
            "       512.5312500455466, 512.5312500479774, 512.5312500506411,\n",
            "       512.5312500562094]), array([1, 1, 1, 1, 1, 1, 1, 1, 1, 1, 1, 1, 1, 1, 1, 1, 1, 1, 1, 1, 1, 1,\n",
            "       1, 1, 1, 1, 1, 1, 1, 1, 1, 1, 1, 1, 1, 1, 1, 1, 1, 1, 1, 1, 1, 1,\n",
            "       1, 1, 1, 1, 1, 1, 1, 1, 1, 1, 1, 1, 1, 1, 1, 1, 1, 1, 1, 1, 1, 1,\n",
            "       1, 1, 1, 1, 1, 1, 1, 1, 1, 1, 1, 1, 1, 1, 1, 1, 1, 1, 1, 1, 1, 1,\n",
            "       1, 1, 1, 1, 1, 1, 1, 1, 1, 1, 1, 1]))\n"
          ]
        }
      ],
      "source": [
        "\n",
        "the_ans = np.unique(arr_1_ans, return_counts = True)\n",
        "print(the_ans)"
      ]
    },
    {
      "cell_type": "code",
      "execution_count": 2,
      "metadata": {},
      "outputs": [
        {
          "data": {
            "text/plain": [
              "(0.5000000000000008, 0.5000000000000009)"
            ]
          },
          "execution_count": 2,
          "metadata": {},
          "output_type": "execute_result"
        }
      ],
      "source": [
        "lower, upper"
      ]
    }
  ],
  "metadata": {
    "colab": {
      "collapsed_sections": [],
      "name": "shared_openmined_attack_mean.ipynb",
      "provenance": []
    },
    "kernelspec": {
      "display_name": "Python 3",
      "name": "python3"
    },
    "language_info": {
      "codemirror_mode": {
        "name": "ipython",
        "version": 3
      },
      "file_extension": ".py",
      "mimetype": "text/x-python",
      "name": "python",
      "nbconvert_exporter": "python",
      "pygments_lexer": "ipython3",
      "version": "3.8.13"
    }
  },
  "nbformat": 4,
  "nbformat_minor": 0
}
